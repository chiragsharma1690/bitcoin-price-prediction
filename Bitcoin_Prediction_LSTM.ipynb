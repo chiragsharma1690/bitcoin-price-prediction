{
  "nbformat": 4,
  "nbformat_minor": 0,
  "metadata": {
    "colab": {
      "name": "Bitcoin Prediction LSTM.ipynb",
      "provenance": [],
      "authorship_tag": "ABX9TyOburfdiyea/6iYheqwXH3e",
      "include_colab_link": true
    },
    "kernelspec": {
      "name": "python3",
      "display_name": "Python 3"
    },
    "language_info": {
      "name": "python"
    }
  },
  "cells": [
    {
      "cell_type": "markdown",
      "metadata": {
        "id": "view-in-github",
        "colab_type": "text"
      },
      "source": [
        "<a href=\"https://colab.research.google.com/github/chiragsharma1690/bitcoin-price-prediction/blob/main/Bitcoin_Prediction_LSTM.ipynb\" target=\"_parent\"><img src=\"https://colab.research.google.com/assets/colab-badge.svg\" alt=\"Open In Colab\"/></a>"
      ]
    },
    {
      "cell_type": "code",
      "metadata": {
        "id": "uu_nlSnXe0a1"
      },
      "source": [
        "import numpy as np\n",
        "import pandas as pd\n",
        "import matplotlib.pyplot as plt\n",
        "import math\n",
        "\n",
        "from sklearn.preprocessing import MinMaxScaler\n",
        "from sklearn.metrics import mean_squared_error\n",
        "\n",
        "from keras.models import Sequential\n",
        "from keras.layers import Dense\n",
        "from keras.layers import LSTM"
      ],
      "execution_count": null,
      "outputs": []
    },
    {
      "cell_type": "code",
      "metadata": {
        "colab": {
          "base_uri": "https://localhost:8080/",
          "height": 204
        },
        "id": "IDlj6Aele3g3",
        "outputId": "bd89282f-7159-4438-e8b9-b39ab4e37efc"
      },
      "source": [
        "df = pd.read_csv('BTC-USD (1).csv')\n",
        "df.head()"
      ],
      "execution_count": null,
      "outputs": [
        {
          "output_type": "execute_result",
          "data": {
            "text/html": [
              "<div>\n",
              "<style scoped>\n",
              "    .dataframe tbody tr th:only-of-type {\n",
              "        vertical-align: middle;\n",
              "    }\n",
              "\n",
              "    .dataframe tbody tr th {\n",
              "        vertical-align: top;\n",
              "    }\n",
              "\n",
              "    .dataframe thead th {\n",
              "        text-align: right;\n",
              "    }\n",
              "</style>\n",
              "<table border=\"1\" class=\"dataframe\">\n",
              "  <thead>\n",
              "    <tr style=\"text-align: right;\">\n",
              "      <th></th>\n",
              "      <th>Date</th>\n",
              "      <th>Open</th>\n",
              "      <th>High</th>\n",
              "      <th>Low</th>\n",
              "      <th>Close</th>\n",
              "      <th>Adj Close</th>\n",
              "      <th>Volume</th>\n",
              "    </tr>\n",
              "  </thead>\n",
              "  <tbody>\n",
              "    <tr>\n",
              "      <th>0</th>\n",
              "      <td>2016-05-09</td>\n",
              "      <td>458.205994</td>\n",
              "      <td>462.480988</td>\n",
              "      <td>456.531006</td>\n",
              "      <td>460.483002</td>\n",
              "      <td>460.483002</td>\n",
              "      <td>55493100.0</td>\n",
              "    </tr>\n",
              "    <tr>\n",
              "      <th>1</th>\n",
              "      <td>2016-05-10</td>\n",
              "      <td>460.518005</td>\n",
              "      <td>461.928986</td>\n",
              "      <td>448.954010</td>\n",
              "      <td>450.894989</td>\n",
              "      <td>450.894989</td>\n",
              "      <td>58956100.0</td>\n",
              "    </tr>\n",
              "    <tr>\n",
              "      <th>2</th>\n",
              "      <td>2016-05-11</td>\n",
              "      <td>450.864014</td>\n",
              "      <td>454.575989</td>\n",
              "      <td>450.864014</td>\n",
              "      <td>452.727997</td>\n",
              "      <td>452.727997</td>\n",
              "      <td>50605200.0</td>\n",
              "    </tr>\n",
              "    <tr>\n",
              "      <th>3</th>\n",
              "      <td>2016-05-12</td>\n",
              "      <td>452.446991</td>\n",
              "      <td>454.949005</td>\n",
              "      <td>449.250000</td>\n",
              "      <td>454.765991</td>\n",
              "      <td>454.765991</td>\n",
              "      <td>59849300.0</td>\n",
              "    </tr>\n",
              "    <tr>\n",
              "      <th>4</th>\n",
              "      <td>2016-05-13</td>\n",
              "      <td>454.850006</td>\n",
              "      <td>457.054993</td>\n",
              "      <td>453.453003</td>\n",
              "      <td>455.670013</td>\n",
              "      <td>455.670013</td>\n",
              "      <td>60845000.0</td>\n",
              "    </tr>\n",
              "  </tbody>\n",
              "</table>\n",
              "</div>"
            ],
            "text/plain": [
              "         Date        Open        High  ...       Close   Adj Close      Volume\n",
              "0  2016-05-09  458.205994  462.480988  ...  460.483002  460.483002  55493100.0\n",
              "1  2016-05-10  460.518005  461.928986  ...  450.894989  450.894989  58956100.0\n",
              "2  2016-05-11  450.864014  454.575989  ...  452.727997  452.727997  50605200.0\n",
              "3  2016-05-12  452.446991  454.949005  ...  454.765991  454.765991  59849300.0\n",
              "4  2016-05-13  454.850006  457.054993  ...  455.670013  455.670013  60845000.0\n",
              "\n",
              "[5 rows x 7 columns]"
            ]
          },
          "metadata": {
            "tags": []
          },
          "execution_count": 2
        }
      ]
    },
    {
      "cell_type": "code",
      "metadata": {
        "colab": {
          "base_uri": "https://localhost:8080/"
        },
        "id": "W0H_AeiufFEF",
        "outputId": "c9bc4ef3-d8ab-4f6e-b082-32937e59858e"
      },
      "source": [
        "df = df[['Close']]\n",
        "dataset = df.values\n",
        "dataset = dataset.astype('float32')\n",
        "dataset"
      ],
      "execution_count": null,
      "outputs": [
        {
          "output_type": "execute_result",
          "data": {
            "text/plain": [
              "array([[  460.483],\n",
              "       [  450.895],\n",
              "       [  452.728],\n",
              "       ...,\n",
              "       [57356.402],\n",
              "       [58803.777],\n",
              "       [58188.477]], dtype=float32)"
            ]
          },
          "metadata": {
            "tags": []
          },
          "execution_count": 3
        }
      ]
    },
    {
      "cell_type": "code",
      "metadata": {
        "colab": {
          "base_uri": "https://localhost:8080/"
        },
        "id": "EqYg9BphfXH9",
        "outputId": "b5a51f56-a07a-4779-d4d0-9ddeaeb9615d"
      },
      "source": [
        "scaler = MinMaxScaler(feature_range=(0, 1))\n",
        "dataset = scaler.fit_transform(dataset)\n",
        "dataset"
      ],
      "execution_count": null,
      "outputs": [
        {
          "output_type": "execute_result",
          "data": {
            "text/plain": [
              "array([[3.4516910e-04],\n",
              "       [1.9313442e-04],\n",
              "       [2.2220006e-04],\n",
              "       ...,\n",
              "       [9.0252781e-01],\n",
              "       [9.2547846e-01],\n",
              "       [9.1572177e-01]], dtype=float32)"
            ]
          },
          "metadata": {
            "tags": []
          },
          "execution_count": 4
        }
      ]
    },
    {
      "cell_type": "code",
      "metadata": {
        "colab": {
          "base_uri": "https://localhost:8080/"
        },
        "id": "mjW8HCeafbcm",
        "outputId": "4a197437-2941-43e8-e3f0-5619144bb72c"
      },
      "source": [
        "train_size = int(len(dataset) * 0.67)\n",
        "test_size = len(dataset) - train_size\n",
        "train, test = dataset[0:train_size, :], dataset[train_size:len(dataset), :]\n",
        "print(len(train), len(test))"
      ],
      "execution_count": null,
      "outputs": [
        {
          "output_type": "stream",
          "text": [
            "1224 603\n"
          ],
          "name": "stdout"
        }
      ]
    },
    {
      "cell_type": "code",
      "metadata": {
        "id": "45kkvxbqfgew"
      },
      "source": [
        "# convert an array of values into a dataset matrix\n",
        "def create_dataset(dataset, look_back=1):\n",
        "  dataX, dataY = [], []\n",
        "  for i in range(len(dataset)-look_back-1):\n",
        "    a = dataset[i:(i+look_back), 0]\n",
        "    dataX.append(a)\n",
        "    dataY.append(dataset[i + look_back, 0])\n",
        "  return np.array(dataX), np.array(dataY)"
      ],
      "execution_count": null,
      "outputs": []
    },
    {
      "cell_type": "code",
      "metadata": {
        "colab": {
          "base_uri": "https://localhost:8080/"
        },
        "id": "2ZuXIoqxfls8",
        "outputId": "efd0b1a0-df06-4851-f074-e31093d6df1d"
      },
      "source": [
        "look_back = 10\n",
        "trainX, trainY = create_dataset(train, look_back=look_back)\n",
        "testX, testY = create_dataset(test, look_back=look_back)\n",
        "trainX"
      ],
      "execution_count": null,
      "outputs": [
        {
          "output_type": "execute_result",
          "data": {
            "text/plain": [
              "array([[3.4516910e-04, 1.9313442e-04, 2.2220006e-04, ..., 2.4495460e-04,\n",
              "        2.3892894e-04, 2.5218492e-04],\n",
              "       [1.9313442e-04, 2.2220006e-04, 2.5451602e-04, ..., 2.3892894e-04,\n",
              "        2.5218492e-04, 0.0000000e+00],\n",
              "       [2.2220006e-04, 2.5451602e-04, 2.6885094e-04, ..., 2.5218492e-04,\n",
              "        0.0000000e+00, 6.2808394e-05],\n",
              "       ...,\n",
              "       [1.4777283e-01, 1.5710911e-01, 1.6149792e-01, ..., 1.5860783e-01,\n",
              "        1.5692222e-01, 1.5344961e-01],\n",
              "       [1.5710911e-01, 1.6149792e-01, 1.6103734e-01, ..., 1.5692222e-01,\n",
              "        1.5344961e-01, 1.5443902e-01],\n",
              "       [1.6149792e-01, 1.6103734e-01, 1.6073669e-01, ..., 1.5344961e-01,\n",
              "        1.5443902e-01, 1.5811390e-01]], dtype=float32)"
            ]
          },
          "metadata": {
            "tags": []
          },
          "execution_count": 7
        }
      ]
    },
    {
      "cell_type": "code",
      "metadata": {
        "colab": {
          "base_uri": "https://localhost:8080/"
        },
        "id": "6cbg2R8NfqlK",
        "outputId": "8aaf7796-fa34-4f64-898a-9ec19b721f6f"
      },
      "source": [
        "trainY"
      ],
      "execution_count": null,
      "outputs": [
        {
          "output_type": "execute_result",
          "data": {
            "text/plain": [
              "array([0.0000000e+00, 6.2808394e-05, 7.0926733e-05, ..., 1.5443902e-01,\n",
              "       1.5811390e-01, 1.5732771e-01], dtype=float32)"
            ]
          },
          "metadata": {
            "tags": []
          },
          "execution_count": 8
        }
      ]
    },
    {
      "cell_type": "code",
      "metadata": {
        "id": "P2WY-S1MftpU"
      },
      "source": [
        "trainX = np.reshape(trainX, (trainX.shape[0], 1, trainX.shape[1]))\n",
        "testX = np.reshape(testX, (testX.shape[0], 1, testX.shape[1]))"
      ],
      "execution_count": null,
      "outputs": []
    },
    {
      "cell_type": "code",
      "metadata": {
        "colab": {
          "base_uri": "https://localhost:8080/"
        },
        "id": "LI9gXZtBfxaR",
        "outputId": "608af069-24cd-42f3-817e-969d48dac3d8"
      },
      "source": [
        "model = Sequential()\n",
        "model.add(LSTM(4, input_shape=(1, look_back)))\n",
        "model.add(Dense(1))\n",
        "model.compile(loss='mean_squared_error', optimizer='adam')\n",
        "model.fit(trainX, trainY, epochs=100, batch_size=256, verbose=2)"
      ],
      "execution_count": null,
      "outputs": [
        {
          "output_type": "stream",
          "text": [
            "Epoch 1/100\n",
            "5/5 - 2s - loss: 0.0068\n",
            "Epoch 2/100\n",
            "5/5 - 0s - loss: 0.0055\n",
            "Epoch 3/100\n",
            "5/5 - 0s - loss: 0.0044\n",
            "Epoch 4/100\n",
            "5/5 - 0s - loss: 0.0035\n",
            "Epoch 5/100\n",
            "5/5 - 0s - loss: 0.0028\n",
            "Epoch 6/100\n",
            "5/5 - 0s - loss: 0.0023\n",
            "Epoch 7/100\n",
            "5/5 - 0s - loss: 0.0020\n",
            "Epoch 8/100\n",
            "5/5 - 0s - loss: 0.0017\n",
            "Epoch 9/100\n",
            "5/5 - 0s - loss: 0.0016\n",
            "Epoch 10/100\n",
            "5/5 - 0s - loss: 0.0015\n",
            "Epoch 11/100\n",
            "5/5 - 0s - loss: 0.0014\n",
            "Epoch 12/100\n",
            "5/5 - 0s - loss: 0.0014\n",
            "Epoch 13/100\n",
            "5/5 - 0s - loss: 0.0013\n",
            "Epoch 14/100\n",
            "5/5 - 0s - loss: 0.0012\n",
            "Epoch 15/100\n",
            "5/5 - 0s - loss: 0.0011\n",
            "Epoch 16/100\n",
            "5/5 - 0s - loss: 0.0010\n",
            "Epoch 17/100\n",
            "5/5 - 0s - loss: 9.3925e-04\n",
            "Epoch 18/100\n",
            "5/5 - 0s - loss: 8.6376e-04\n",
            "Epoch 19/100\n",
            "5/5 - 0s - loss: 7.9044e-04\n",
            "Epoch 20/100\n",
            "5/5 - 0s - loss: 7.2159e-04\n",
            "Epoch 21/100\n",
            "5/5 - 0s - loss: 6.5758e-04\n",
            "Epoch 22/100\n",
            "5/5 - 0s - loss: 5.9547e-04\n",
            "Epoch 23/100\n",
            "5/5 - 0s - loss: 5.3795e-04\n",
            "Epoch 24/100\n",
            "5/5 - 0s - loss: 4.8543e-04\n",
            "Epoch 25/100\n",
            "5/5 - 0s - loss: 4.3734e-04\n",
            "Epoch 26/100\n",
            "5/5 - 0s - loss: 3.9277e-04\n",
            "Epoch 27/100\n",
            "5/5 - 0s - loss: 3.5293e-04\n",
            "Epoch 28/100\n",
            "5/5 - 0s - loss: 3.1762e-04\n",
            "Epoch 29/100\n",
            "5/5 - 0s - loss: 2.8584e-04\n",
            "Epoch 30/100\n",
            "5/5 - 0s - loss: 2.5773e-04\n",
            "Epoch 31/100\n",
            "5/5 - 0s - loss: 2.3304e-04\n",
            "Epoch 32/100\n",
            "5/5 - 0s - loss: 2.1297e-04\n",
            "Epoch 33/100\n",
            "5/5 - 0s - loss: 1.9381e-04\n",
            "Epoch 34/100\n",
            "5/5 - 0s - loss: 1.7866e-04\n",
            "Epoch 35/100\n",
            "5/5 - 0s - loss: 1.6621e-04\n",
            "Epoch 36/100\n",
            "5/5 - 0s - loss: 1.5496e-04\n",
            "Epoch 37/100\n",
            "5/5 - 0s - loss: 1.4610e-04\n",
            "Epoch 38/100\n",
            "5/5 - 0s - loss: 1.3853e-04\n",
            "Epoch 39/100\n",
            "5/5 - 0s - loss: 1.3262e-04\n",
            "Epoch 40/100\n",
            "5/5 - 0s - loss: 1.2803e-04\n",
            "Epoch 41/100\n",
            "5/5 - 0s - loss: 1.2401e-04\n",
            "Epoch 42/100\n",
            "5/5 - 0s - loss: 1.2112e-04\n",
            "Epoch 43/100\n",
            "5/5 - 0s - loss: 1.1864e-04\n",
            "Epoch 44/100\n",
            "5/5 - 0s - loss: 1.1678e-04\n",
            "Epoch 45/100\n",
            "5/5 - 0s - loss: 1.1503e-04\n",
            "Epoch 46/100\n",
            "5/5 - 0s - loss: 1.1396e-04\n",
            "Epoch 47/100\n",
            "5/5 - 0s - loss: 1.1309e-04\n",
            "Epoch 48/100\n",
            "5/5 - 0s - loss: 1.1218e-04\n",
            "Epoch 49/100\n",
            "5/5 - 0s - loss: 1.1158e-04\n",
            "Epoch 50/100\n",
            "5/5 - 0s - loss: 1.1105e-04\n",
            "Epoch 51/100\n",
            "5/5 - 0s - loss: 1.1064e-04\n",
            "Epoch 52/100\n",
            "5/5 - 0s - loss: 1.1030e-04\n",
            "Epoch 53/100\n",
            "5/5 - 0s - loss: 1.0988e-04\n",
            "Epoch 54/100\n",
            "5/5 - 0s - loss: 1.0961e-04\n",
            "Epoch 55/100\n",
            "5/5 - 0s - loss: 1.0928e-04\n",
            "Epoch 56/100\n",
            "5/5 - 0s - loss: 1.0898e-04\n",
            "Epoch 57/100\n",
            "5/5 - 0s - loss: 1.0873e-04\n",
            "Epoch 58/100\n",
            "5/5 - 0s - loss: 1.0845e-04\n",
            "Epoch 59/100\n",
            "5/5 - 0s - loss: 1.0819e-04\n",
            "Epoch 60/100\n",
            "5/5 - 0s - loss: 1.0799e-04\n",
            "Epoch 61/100\n",
            "5/5 - 0s - loss: 1.0767e-04\n",
            "Epoch 62/100\n",
            "5/5 - 0s - loss: 1.0750e-04\n",
            "Epoch 63/100\n",
            "5/5 - 0s - loss: 1.0717e-04\n",
            "Epoch 64/100\n",
            "5/5 - 0s - loss: 1.0689e-04\n",
            "Epoch 65/100\n",
            "5/5 - 0s - loss: 1.0666e-04\n",
            "Epoch 66/100\n",
            "5/5 - 0s - loss: 1.0641e-04\n",
            "Epoch 67/100\n",
            "5/5 - 0s - loss: 1.0611e-04\n",
            "Epoch 68/100\n",
            "5/5 - 0s - loss: 1.0596e-04\n",
            "Epoch 69/100\n",
            "5/5 - 0s - loss: 1.0561e-04\n",
            "Epoch 70/100\n",
            "5/5 - 0s - loss: 1.0532e-04\n",
            "Epoch 71/100\n",
            "5/5 - 0s - loss: 1.0509e-04\n",
            "Epoch 72/100\n",
            "5/5 - 0s - loss: 1.0488e-04\n",
            "Epoch 73/100\n",
            "5/5 - 0s - loss: 1.0456e-04\n",
            "Epoch 74/100\n",
            "5/5 - 0s - loss: 1.0430e-04\n",
            "Epoch 75/100\n",
            "5/5 - 0s - loss: 1.0406e-04\n",
            "Epoch 76/100\n",
            "5/5 - 0s - loss: 1.0378e-04\n",
            "Epoch 77/100\n",
            "5/5 - 0s - loss: 1.0355e-04\n",
            "Epoch 78/100\n",
            "5/5 - 0s - loss: 1.0331e-04\n",
            "Epoch 79/100\n",
            "5/5 - 0s - loss: 1.0301e-04\n",
            "Epoch 80/100\n",
            "5/5 - 0s - loss: 1.0275e-04\n",
            "Epoch 81/100\n",
            "5/5 - 0s - loss: 1.0246e-04\n",
            "Epoch 82/100\n",
            "5/5 - 0s - loss: 1.0221e-04\n",
            "Epoch 83/100\n",
            "5/5 - 0s - loss: 1.0193e-04\n",
            "Epoch 84/100\n",
            "5/5 - 0s - loss: 1.0165e-04\n",
            "Epoch 85/100\n",
            "5/5 - 0s - loss: 1.0142e-04\n",
            "Epoch 86/100\n",
            "5/5 - 0s - loss: 1.0117e-04\n",
            "Epoch 87/100\n",
            "5/5 - 0s - loss: 1.0086e-04\n",
            "Epoch 88/100\n",
            "5/5 - 0s - loss: 1.0064e-04\n",
            "Epoch 89/100\n",
            "5/5 - 0s - loss: 1.0044e-04\n",
            "Epoch 90/100\n",
            "5/5 - 0s - loss: 1.0013e-04\n",
            "Epoch 91/100\n",
            "5/5 - 0s - loss: 9.9834e-05\n",
            "Epoch 92/100\n",
            "5/5 - 0s - loss: 9.9578e-05\n",
            "Epoch 93/100\n",
            "5/5 - 0s - loss: 9.9316e-05\n",
            "Epoch 94/100\n",
            "5/5 - 0s - loss: 9.9074e-05\n",
            "Epoch 95/100\n",
            "5/5 - 0s - loss: 9.8791e-05\n",
            "Epoch 96/100\n",
            "5/5 - 0s - loss: 9.8523e-05\n",
            "Epoch 97/100\n",
            "5/5 - 0s - loss: 9.8280e-05\n",
            "Epoch 98/100\n",
            "5/5 - 0s - loss: 9.7990e-05\n",
            "Epoch 99/100\n",
            "5/5 - 0s - loss: 9.7826e-05\n",
            "Epoch 100/100\n",
            "5/5 - 0s - loss: 9.7499e-05\n"
          ],
          "name": "stdout"
        },
        {
          "output_type": "execute_result",
          "data": {
            "text/plain": [
              "<tensorflow.python.keras.callbacks.History at 0x7faafe7398d0>"
            ]
          },
          "metadata": {
            "tags": []
          },
          "execution_count": 10
        }
      ]
    },
    {
      "cell_type": "code",
      "metadata": {
        "id": "YivIsOxOf3hp"
      },
      "source": [
        "trainPredict = model.predict(trainX)\n",
        "testPredict = model.predict(testX)"
      ],
      "execution_count": null,
      "outputs": []
    },
    {
      "cell_type": "code",
      "metadata": {
        "id": "VIbZQ4gdf8PD"
      },
      "source": [
        "trainPredict = scaler.inverse_transform(trainPredict)\n",
        "trainY = scaler.inverse_transform([trainY])\n",
        "testPredict = scaler.inverse_transform(testPredict)\n",
        "testY = scaler.inverse_transform([testY])"
      ],
      "execution_count": null,
      "outputs": []
    },
    {
      "cell_type": "code",
      "metadata": {
        "colab": {
          "base_uri": "https://localhost:8080/",
          "height": 374
        },
        "id": "ukUJXVtaf-36",
        "outputId": "22fa19af-2536-42eb-e829-f945ba28dcc6"
      },
      "source": [
        "trainScore = math.sqrt(mean_squared_error(trainY[0], trainPredict[:, 0]))\n",
        "print('Train Score: %.2f RMSE' % (trainScore))\n",
        "testScore = math.sqrt(mean_squared_error(testY[0], testPredict[:, 0]))\n",
        "print('Test Score: %.2f RMSE' % (testScore))"
      ],
      "execution_count": null,
      "outputs": [
        {
          "output_type": "stream",
          "text": [
            "Train Score: 622.09 RMSE\n"
          ],
          "name": "stdout"
        },
        {
          "output_type": "error",
          "ename": "ValueError",
          "evalue": "ignored",
          "traceback": [
            "\u001b[0;31m---------------------------------------------------------------------------\u001b[0m",
            "\u001b[0;31mValueError\u001b[0m                                Traceback (most recent call last)",
            "\u001b[0;32m<ipython-input-14-646af7484945>\u001b[0m in \u001b[0;36m<module>\u001b[0;34m()\u001b[0m\n\u001b[1;32m      1\u001b[0m \u001b[0mtrainScore\u001b[0m \u001b[0;34m=\u001b[0m \u001b[0mmath\u001b[0m\u001b[0;34m.\u001b[0m\u001b[0msqrt\u001b[0m\u001b[0;34m(\u001b[0m\u001b[0mmean_squared_error\u001b[0m\u001b[0;34m(\u001b[0m\u001b[0mtrainY\u001b[0m\u001b[0;34m[\u001b[0m\u001b[0;36m0\u001b[0m\u001b[0;34m]\u001b[0m\u001b[0;34m,\u001b[0m \u001b[0mtrainPredict\u001b[0m\u001b[0;34m[\u001b[0m\u001b[0;34m:\u001b[0m\u001b[0;34m,\u001b[0m \u001b[0;36m0\u001b[0m\u001b[0;34m]\u001b[0m\u001b[0;34m)\u001b[0m\u001b[0;34m)\u001b[0m\u001b[0;34m\u001b[0m\u001b[0;34m\u001b[0m\u001b[0m\n\u001b[1;32m      2\u001b[0m \u001b[0mprint\u001b[0m\u001b[0;34m(\u001b[0m\u001b[0;34m'Train Score: %.2f RMSE'\u001b[0m \u001b[0;34m%\u001b[0m \u001b[0;34m(\u001b[0m\u001b[0mtrainScore\u001b[0m\u001b[0;34m)\u001b[0m\u001b[0;34m)\u001b[0m\u001b[0;34m\u001b[0m\u001b[0;34m\u001b[0m\u001b[0m\n\u001b[0;32m----> 3\u001b[0;31m \u001b[0mtestScore\u001b[0m \u001b[0;34m=\u001b[0m \u001b[0mmath\u001b[0m\u001b[0;34m.\u001b[0m\u001b[0msqrt\u001b[0m\u001b[0;34m(\u001b[0m\u001b[0mmean_squared_error\u001b[0m\u001b[0;34m(\u001b[0m\u001b[0mtestY\u001b[0m\u001b[0;34m[\u001b[0m\u001b[0;36m0\u001b[0m\u001b[0;34m]\u001b[0m\u001b[0;34m,\u001b[0m \u001b[0mtestPredict\u001b[0m\u001b[0;34m[\u001b[0m\u001b[0;34m:\u001b[0m\u001b[0;34m,\u001b[0m \u001b[0;36m0\u001b[0m\u001b[0;34m]\u001b[0m\u001b[0;34m)\u001b[0m\u001b[0;34m)\u001b[0m\u001b[0;34m\u001b[0m\u001b[0;34m\u001b[0m\u001b[0m\n\u001b[0m\u001b[1;32m      4\u001b[0m \u001b[0mprint\u001b[0m\u001b[0;34m(\u001b[0m\u001b[0;34m'Test Score: %.2f RMSE'\u001b[0m \u001b[0;34m%\u001b[0m \u001b[0;34m(\u001b[0m\u001b[0mtestScore\u001b[0m\u001b[0;34m)\u001b[0m\u001b[0;34m)\u001b[0m\u001b[0;34m\u001b[0m\u001b[0;34m\u001b[0m\u001b[0m\n",
            "\u001b[0;32m/usr/local/lib/python3.7/dist-packages/sklearn/metrics/_regression.py\u001b[0m in \u001b[0;36mmean_squared_error\u001b[0;34m(y_true, y_pred, sample_weight, multioutput, squared)\u001b[0m\n\u001b[1;32m    250\u001b[0m     \"\"\"\n\u001b[1;32m    251\u001b[0m     y_type, y_true, y_pred, multioutput = _check_reg_targets(\n\u001b[0;32m--> 252\u001b[0;31m         y_true, y_pred, multioutput)\n\u001b[0m\u001b[1;32m    253\u001b[0m     \u001b[0mcheck_consistent_length\u001b[0m\u001b[0;34m(\u001b[0m\u001b[0my_true\u001b[0m\u001b[0;34m,\u001b[0m \u001b[0my_pred\u001b[0m\u001b[0;34m,\u001b[0m \u001b[0msample_weight\u001b[0m\u001b[0;34m)\u001b[0m\u001b[0;34m\u001b[0m\u001b[0;34m\u001b[0m\u001b[0m\n\u001b[1;32m    254\u001b[0m     output_errors = np.average((y_true - y_pred) ** 2, axis=0,\n",
            "\u001b[0;32m/usr/local/lib/python3.7/dist-packages/sklearn/metrics/_regression.py\u001b[0m in \u001b[0;36m_check_reg_targets\u001b[0;34m(y_true, y_pred, multioutput, dtype)\u001b[0m\n\u001b[1;32m     83\u001b[0m     \"\"\"\n\u001b[1;32m     84\u001b[0m     \u001b[0mcheck_consistent_length\u001b[0m\u001b[0;34m(\u001b[0m\u001b[0my_true\u001b[0m\u001b[0;34m,\u001b[0m \u001b[0my_pred\u001b[0m\u001b[0;34m)\u001b[0m\u001b[0;34m\u001b[0m\u001b[0;34m\u001b[0m\u001b[0m\n\u001b[0;32m---> 85\u001b[0;31m     \u001b[0my_true\u001b[0m \u001b[0;34m=\u001b[0m \u001b[0mcheck_array\u001b[0m\u001b[0;34m(\u001b[0m\u001b[0my_true\u001b[0m\u001b[0;34m,\u001b[0m \u001b[0mensure_2d\u001b[0m\u001b[0;34m=\u001b[0m\u001b[0;32mFalse\u001b[0m\u001b[0;34m,\u001b[0m \u001b[0mdtype\u001b[0m\u001b[0;34m=\u001b[0m\u001b[0mdtype\u001b[0m\u001b[0;34m)\u001b[0m\u001b[0;34m\u001b[0m\u001b[0;34m\u001b[0m\u001b[0m\n\u001b[0m\u001b[1;32m     86\u001b[0m     \u001b[0my_pred\u001b[0m \u001b[0;34m=\u001b[0m \u001b[0mcheck_array\u001b[0m\u001b[0;34m(\u001b[0m\u001b[0my_pred\u001b[0m\u001b[0;34m,\u001b[0m \u001b[0mensure_2d\u001b[0m\u001b[0;34m=\u001b[0m\u001b[0;32mFalse\u001b[0m\u001b[0;34m,\u001b[0m \u001b[0mdtype\u001b[0m\u001b[0;34m=\u001b[0m\u001b[0mdtype\u001b[0m\u001b[0;34m)\u001b[0m\u001b[0;34m\u001b[0m\u001b[0;34m\u001b[0m\u001b[0m\n\u001b[1;32m     87\u001b[0m \u001b[0;34m\u001b[0m\u001b[0m\n",
            "\u001b[0;32m/usr/local/lib/python3.7/dist-packages/sklearn/utils/validation.py\u001b[0m in \u001b[0;36mcheck_array\u001b[0;34m(array, accept_sparse, accept_large_sparse, dtype, order, copy, force_all_finite, ensure_2d, allow_nd, ensure_min_samples, ensure_min_features, warn_on_dtype, estimator)\u001b[0m\n\u001b[1;32m    576\u001b[0m         \u001b[0;32mif\u001b[0m \u001b[0mforce_all_finite\u001b[0m\u001b[0;34m:\u001b[0m\u001b[0;34m\u001b[0m\u001b[0;34m\u001b[0m\u001b[0m\n\u001b[1;32m    577\u001b[0m             _assert_all_finite(array,\n\u001b[0;32m--> 578\u001b[0;31m                                allow_nan=force_all_finite == 'allow-nan')\n\u001b[0m\u001b[1;32m    579\u001b[0m \u001b[0;34m\u001b[0m\u001b[0m\n\u001b[1;32m    580\u001b[0m     \u001b[0;32mif\u001b[0m \u001b[0mensure_min_samples\u001b[0m \u001b[0;34m>\u001b[0m \u001b[0;36m0\u001b[0m\u001b[0;34m:\u001b[0m\u001b[0;34m\u001b[0m\u001b[0;34m\u001b[0m\u001b[0m\n",
            "\u001b[0;32m/usr/local/lib/python3.7/dist-packages/sklearn/utils/validation.py\u001b[0m in \u001b[0;36m_assert_all_finite\u001b[0;34m(X, allow_nan, msg_dtype)\u001b[0m\n\u001b[1;32m     58\u001b[0m                     \u001b[0mmsg_err\u001b[0m\u001b[0;34m.\u001b[0m\u001b[0mformat\u001b[0m\u001b[0;34m\u001b[0m\u001b[0;34m\u001b[0m\u001b[0m\n\u001b[1;32m     59\u001b[0m                     (type_err,\n\u001b[0;32m---> 60\u001b[0;31m                      msg_dtype if msg_dtype is not None else X.dtype)\n\u001b[0m\u001b[1;32m     61\u001b[0m             )\n\u001b[1;32m     62\u001b[0m     \u001b[0;31m# for object dtype data, we only check for NaNs (GH-13254)\u001b[0m\u001b[0;34m\u001b[0m\u001b[0;34m\u001b[0m\u001b[0;34m\u001b[0m\u001b[0m\n",
            "\u001b[0;31mValueError\u001b[0m: Input contains NaN, infinity or a value too large for dtype('float64')."
          ]
        }
      ]
    },
    {
      "cell_type": "code",
      "metadata": {
        "id": "cpV61S2CgONR"
      },
      "source": [
        "# shift train predictions for plotting\n",
        "trainPredictPlot = np.empty_like(dataset)\n",
        "trainPredictPlot[:, :] = np.nan\n",
        "trainPredictPlot[look_back:len(trainPredict) + look_back, :] = trainPredict"
      ],
      "execution_count": null,
      "outputs": []
    },
    {
      "cell_type": "code",
      "metadata": {
        "id": "ZIjJNFoGgPUt"
      },
      "source": [
        "\n",
        "# shift test predictions for plotting\n",
        "testPredictPlot = np.empty_like(dataset)\n",
        "testPredictPlot[:, :] = np.nan\n",
        "testPredictPlot[len(trainPredict) + (look_back * 2) + 1:len(dataset) - 1, :] = testPredict"
      ],
      "execution_count": null,
      "outputs": []
    },
    {
      "cell_type": "code",
      "metadata": {
        "colab": {
          "base_uri": "https://localhost:8080/",
          "height": 265
        },
        "id": "MxlH9enpgSho",
        "outputId": "4f17e1f9-a7d4-45df-e0e8-1ae0bc794113"
      },
      "source": [
        "plt.plot(df['Close'], label='Actual')\n",
        "plt.plot(pd.DataFrame(trainPredictPlot, columns=[\"close\"], index=df.index).close, label='Training')\n",
        "plt.plot(pd.DataFrame(testPredictPlot, columns=[\"close\"], index=df.index).close, label='Testing')\n",
        "plt.legend(loc='best')\n",
        "plt.show()"
      ],
      "execution_count": null,
      "outputs": [
        {
          "output_type": "display_data",
          "data": {
            "image/png": "[encoded data removed]",
            "text/plain": [
              "<Figure size 432x288 with 1 Axes>"
            ]
          },
          "metadata": {
            "tags": [],
            "needs_background": "light"
          }
        }
      ]
    }
  ]
}